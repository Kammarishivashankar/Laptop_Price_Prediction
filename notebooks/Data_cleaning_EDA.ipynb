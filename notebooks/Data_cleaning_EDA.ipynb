{
 "cells": [
  {
   "cell_type": "markdown",
   "metadata": {},
   "source": [
    "# Laptop Price Predictor"
   ]
  },
  {
   "cell_type": "markdown",
   "metadata": {},
   "source": [
    "### Life cycle of a Machine Learning Project\n",
    "\n",
    "- Understanding the Problem statement\n",
    "- Data Collection\n",
    "- Data Checks to perform \n",
    "- Exploratory data analysis\n",
    "- Data pre-processing\n",
    "- Model Training\n",
    "- Choose best Model"
   ]
  },
  {
   "cell_type": "markdown",
   "metadata": {},
   "source": [
    "### 1.a) Problem Statement: Laptop Price Prediction\n",
    "\n",
    "- The goal of this project is to develop a machine learning model that can accurately predict the price of a laptop based on various features such as its technical specifications, brand, and other relevant attributes.\n",
    "\n",
    "### 1.b) Business Objective:\n",
    "With the rapid growth of e-commerce and online marketplaces, it is essential for sellers to understand how different laptop features affect their prices. This model will help sellers, manufacturers, and customers alike to estimate laptop prices and make informed buying or selling decisions."
   ]
  },
  {
   "cell_type": "markdown",
   "metadata": {},
   "source": []
  },
  {
   "cell_type": "markdown",
   "metadata": {},
   "source": []
  }
 ],
 "metadata": {
  "language_info": {
   "name": "python"
  }
 },
 "nbformat": 4,
 "nbformat_minor": 2
}
